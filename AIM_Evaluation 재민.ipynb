{
 "cells": [
  {
   "cell_type": "markdown",
   "id": "ec9a0213",
   "metadata": {},
   "source": [
    "# AIM: 이미지 평가\n",
    "- 주제(topic), 프롬프트(prompt), 이미지들을 업로드하고 기준 이미지 선택\n",
    "- Hugging Face 토큰은 `.env`의 `HUGGING_FACE_API` 또는 `HF_TOKEN` 사용\n"
   ]
  },
  {
   "cell_type": "code",
   "execution_count": 11,
   "id": "a92fddf4",
   "metadata": {
    "execution": {
     "iopub.execute_input": "2025-08-12T18:49:48.926768Z",
     "iopub.status.busy": "2025-08-12T18:49:48.926101Z",
     "iopub.status.idle": "2025-08-12T18:49:48.943235Z",
     "shell.execute_reply": "2025-08-12T18:49:48.942563Z",
     "shell.execute_reply.started": "2025-08-12T18:49:48.926713Z"
    }
   },
   "outputs": [
    {
     "name": "stdout",
     "output_type": "stream",
     "text": [
      "ROOT = /home/jovyan/Desktop/aim\n"
     ]
    }
   ],
   "source": [
    "# 환경 준비: 프로젝트 루트 경로 추가 및 .env 로딩\n",
    "import os, sys\n",
    "from dotenv import load_dotenv, find_dotenv\n",
    "ROOT = os.path.dirname(os.path.dirname(os.getcwd())) if os.path.basename(os.getcwd())=='notebooks' else os.getcwd()\n",
    "if ROOT not in sys.path: sys.path.insert(0, ROOT)\n",
    "load_dotenv(find_dotenv())\n",
    "print('ROOT =', ROOT)\n"
   ]
  },
  {
   "cell_type": "code",
   "execution_count": null,
   "id": "fa45e154",
   "metadata": {},
   "outputs": [],
   "source": [
    "# 위젯 UI 및 썸네일 프리뷰\n",
    "import ipywidgets as widgets\n",
    "from IPython.display import display, clear_output\n",
    "import io\n",
    "from PIL import Image as PILImage\n",
    "\n",
    "# 입력창 크기 확대\n",
    "topic_w = widgets.Textarea(\n",
    "    value='A wooden cabin with a smoking chimney stands among snow-covered trees and a snowy mountain',\n",
    "    description='Topic',\n",
    "    style={'description_width':'initial'},\n",
    "    layout=widgets.Layout(width='800px', height='80px')\n",
    ")\n",
    "\n",
    "prompt_w = widgets.Textarea(\n",
    "    value='Only one wooden cabin with one chimney, no other buildings or cabins, in a snowy forest with mountains',\n",
    "    description='Prompt',\n",
    "    style={'description_width':'initial'},\n",
    "    layout=widgets.Layout(width='800px', height='80px')\n",
    ")\n",
    "\n",
    "files_w = widgets.FileUpload(accept='image/*', multiple=True, description='Upload Images')\n",
    "ref_dropdown = widgets.Dropdown(options=[], description='Reference Image', style={'description_width':'initial'})\n",
    "enable_clip_w = widgets.Checkbox(value=True, description='Enable CLIP')\n",
    "enable_blip2_w = widgets.Checkbox(value=True, description='Enable BLIP2')\n",
    "enable_lpips_w = widgets.Checkbox(value=True, description='Enable LPIPS')\n",
    "run_btn = widgets.Button(description='Run Evaluation', button_style='primary')\n",
    "thumbs_out = widgets.Output()\n",
    "out = widgets.Output()\n"
   ]
  },
  {
   "cell_type": "code",
   "execution_count": 17,
   "id": "ac4f88c5",
   "metadata": {
    "execution": {
     "iopub.execute_input": "2025-08-12T18:51:24.857752Z",
     "iopub.status.busy": "2025-08-12T18:51:24.857178Z",
     "iopub.status.idle": "2025-08-12T18:51:24.910090Z",
     "shell.execute_reply": "2025-08-12T18:51:24.908491Z",
     "shell.execute_reply.started": "2025-08-12T18:51:24.857702Z"
    }
   },
   "outputs": [
    {
     "name": "stdout",
     "output_type": "stream",
     "text": [
      "Ready.\n"
     ]
    }
   ],
   "source": [
    "# 평가 실행 로직\n",
    "import tempfile, io\n",
    "from PIL import Image\n",
    "import pandas as pd\n",
    "import evaluation\n",
    "\n",
    "def run_eval_clicked(_):\n",
    "    with out:\n",
    "        clear_output()\n",
    "        if not files_w.value:\n",
    "            print('이미지를 업로드하세요.')\n",
    "            return\n",
    "        \n",
    "        # 진행 상태 표시\n",
    "        print(\"모델 로딩 중...\")\n",
    "        \n",
    "        # 환경 플래그 설정\n",
    "        os.environ['DISABLE_CLIP'] = '0' if enable_clip_w.value else '1'\n",
    "        os.environ['DISABLE_BLIP2'] = '0' if enable_blip2_w.value else '1'\n",
    "        os.environ['DISABLE_LPIPS'] = '0' if enable_lpips_w.value else '1'\n",
    "        \n",
    "        # 평가기 인스턴스\n",
    "        eval_inst = evaluation.get_evaluator()\n",
    "        \n",
    "        print(\"이미지 처리 중...\")\n",
    "        \n",
    "        # 업로드 파일을 임시경로에 저장\n",
    "        tmpdir = tempfile.mkdtemp(prefix='aim_nb_')\n",
    "        name_to_path = {}\n",
    "        for i, item in enumerate(files_w.value):\n",
    "            if hasattr(item, 'name') and item.name:\n",
    "                name = item.name\n",
    "            else:\n",
    "                meta = item.get('metadata') or {}\n",
    "                name = meta.get('name', f'image_{i+1}.png')\n",
    "            \n",
    "            content = item['content'] if isinstance(item['content'], (bytes, bytearray)) else item['content'].tobytes()\n",
    "            img = Image.open(io.BytesIO(content)).convert('RGB')\n",
    "            path = os.path.join(tmpdir, name)\n",
    "            img.save(path)\n",
    "            name_to_path[name] = path\n",
    "            \n",
    "        ref_name = ref_dropdown.value\n",
    "        if ref_name not in name_to_path:\n",
    "            print('기준 이미지가 목록에 없습니다.')\n",
    "            return\n",
    "            \n",
    "        print(\"이미지 평가 중...\")\n",
    "        \n",
    "        topic = topic_w.value\n",
    "        prompt = prompt_w.value\n",
    "        results = []\n",
    "        \n",
    "        # 기준 이미지는 LPIPS를 제외하고 평가\n",
    "        for name, path in name_to_path.items():\n",
    "            if name == ref_name:\n",
    "                # 기준 이미지는 LPIPS 제외\n",
    "                r = eval_inst.evaluate(path, name_to_path[ref_name], prompt, topic)\n",
    "                r['lpips_score'] = None\n",
    "                r['lpips_norm'] = None\n",
    "                # 기준 이미지는 LPIPS 제외하고 final_score 재계산\n",
    "                clip_norm = r['clip_norm']\n",
    "                blip2_norm = r['blip2_norm']\n",
    "                weights = {\n",
    "                    'clip': 0.2 if enable_clip_w.value else 0.0,\n",
    "                    'blip2': 0.5 if enable_blip2_w.value else 0.0,\n",
    "                }\n",
    "                weight_sum = sum(weights.values()) or 1.0\n",
    "                score = (clip_norm * weights['clip'] + blip2_norm * weights['blip2'])\n",
    "                r['final_score'] = (score / weight_sum) * 100\n",
    "            else:\n",
    "                # 다른 이미지는 전체 평가\n",
    "                r = eval_inst.evaluate(path, name_to_path[ref_name], prompt, topic)\n",
    "            \n",
    "            r['filename'] = name\n",
    "            results.append(r)\n",
    "            \n",
    "        if not results:\n",
    "            print('평가 결과가 없습니다.')\n",
    "            return\n",
    "            \n",
    "        print(\"평가 완료\")\n",
    "        \n",
    "        # 결과 표시\n",
    "        df = pd.DataFrame(results)[['filename','clip_score','clip_norm','blip2_similarity','blip2_norm','lpips_score','lpips_norm','final_score']]\n",
    "        display(df)\n",
    "        \n",
    "       \n",
    "run_btn.on_click(run_eval_clicked)\n",
    "print('Ready.')\n"
   ]
  },
  {
   "cell_type": "code",
   "execution_count": 18,
   "id": "8029f7f7",
   "metadata": {
    "execution": {
     "iopub.execute_input": "2025-08-12T18:49:52.450604Z",
     "iopub.status.busy": "2025-08-12T18:49:52.449983Z",
     "iopub.status.idle": "2025-08-12T18:49:52.597155Z",
     "shell.execute_reply": "2025-08-12T18:49:52.596487Z",
     "shell.execute_reply.started": "2025-08-12T18:49:52.450553Z"
    }
   },
   "outputs": [
    {
     "data": {
      "application/vnd.jupyter.widget-view+json": {
       "model_id": "31d36d6ebb5944e1bc6ac21ffcbbea84",
       "version_major": 2,
       "version_minor": 0
      },
      "text/plain": [
       "Textarea(value='A wooden cabin with a smoking chimney stands among snow-covered trees and a snowy mountain', d…"
      ]
     },
     "metadata": {},
     "output_type": "display_data"
    },
    {
     "data": {
      "application/vnd.jupyter.widget-view+json": {
       "model_id": "c1a5984eda5f48e8af8840604eb48920",
       "version_major": 2,
       "version_minor": 0
      },
      "text/plain": [
       "Textarea(value='Only one wooden cabin with one chimney, no other buildings or cabins, in a snowy forest with m…"
      ]
     },
     "metadata": {},
     "output_type": "display_data"
    },
    {
     "data": {
      "application/vnd.jupyter.widget-view+json": {
       "model_id": "5c5f3b184f8343b4896d5afe50743359",
       "version_major": 2,
       "version_minor": 0
      },
      "text/plain": [
       "FileUpload(value=({'name': '1.png', 'type': 'image/png', 'size': 1845726, 'content': <memory at 0x7f55b8c57a00…"
      ]
     },
     "metadata": {},
     "output_type": "display_data"
    },
    {
     "data": {
      "application/vnd.jupyter.widget-view+json": {
       "model_id": "045b202af9264c24ac037451e0ee7c41",
       "version_major": 2,
       "version_minor": 0
      },
      "text/plain": [
       "Dropdown(description='Reference Image', index=1, options=('1.png', '2.png', '3.png', '4.png'), style=Descripti…"
      ]
     },
     "metadata": {},
     "output_type": "display_data"
    },
    {
     "data": {
      "application/vnd.jupyter.widget-view+json": {
       "model_id": "b36193451d8c4090952d2b069ef30433",
       "version_major": 2,
       "version_minor": 0
      },
      "text/plain": [
       "HBox(children=(Checkbox(value=True, description='Enable CLIP'), Checkbox(value=True, description='Enable BLIP2…"
      ]
     },
     "metadata": {},
     "output_type": "display_data"
    },
    {
     "data": {
      "application/vnd.jupyter.widget-view+json": {
       "model_id": "81fd1d54b6984971a5734919ddb3d271",
       "version_major": 2,
       "version_minor": 0
      },
      "text/plain": [
       "Output()"
      ]
     },
     "metadata": {},
     "output_type": "display_data"
    },
    {
     "data": {
      "application/vnd.jupyter.widget-view+json": {
       "model_id": "06a0bc6f110d47338ac2a99e1c132034",
       "version_major": 2,
       "version_minor": 0
      },
      "text/plain": [
       "Button(button_style='primary', description='Run Evaluation', style=ButtonStyle())"
      ]
     },
     "metadata": {},
     "output_type": "display_data"
    },
    {
     "data": {
      "application/vnd.jupyter.widget-view+json": {
       "model_id": "298767fe56a04c21b98a5c1761eb7a7a",
       "version_major": 2,
       "version_minor": 0
      },
      "text/plain": [
       "HTML(value=\"\\n            <div style='background-color: #f8f9fa; padding: 15px; border-radius: 8px; border: 1p…"
      ]
     },
     "metadata": {},
     "output_type": "display_data"
    },
    {
     "data": {
      "application/vnd.jupyter.widget-view+json": {
       "model_id": "7ab7ab3922d14f19afe1b80876b5aed3",
       "version_major": 2,
       "version_minor": 0
      },
      "text/plain": [
       "Output()"
      ]
     },
     "metadata": {},
     "output_type": "display_data"
    }
   ],
   "source": [
    "def render_thumbnails(change=None):\n",
    "    with thumbs_out:\n",
    "        clear_output()\n",
    "        if not files_w.value:\n",
    "            print('이미지를 업로드하세요.')\n",
    "            return\n",
    "        items = []\n",
    "        current_ref = ref_dropdown.value or ''\n",
    "        for i, f in enumerate(files_w.value):\n",
    "            # 파일명 추출 개선\n",
    "            if hasattr(f, 'name') and f.name:\n",
    "                name = f.name\n",
    "            else:\n",
    "                meta = f.get('metadata') or {}\n",
    "                name = meta.get('name', f'image_{i+1}.png')\n",
    "            \n",
    "            content = f['content'] if isinstance(f['content'], (bytes, bytearray)) else f['content'].tobytes()\n",
    "            img = PILImage.open(io.BytesIO(content)).convert('RGB')\n",
    "            thumb = img.copy()\n",
    "            thumb.thumbnail((160,160))\n",
    "            buf = io.BytesIO()\n",
    "            thumb.save(buf, format='PNG')\n",
    "            wimg = widgets.Image(value=buf.getvalue(), format='png', width=160, height=160)\n",
    "            border = '3px solid #0056b3' if name == current_ref else '1px solid #ccc'\n",
    "            box = widgets.VBox([wimg, widgets.HTML(f\"<div style='text-align:center; font-size:12px'>{name}</div>\")],\n",
    "                               layout=widgets.Layout(border=border, padding='4px', margin='4px', align_items='center', width='180px'))\n",
    "            items.append(box)\n",
    "        grid = widgets.GridBox(children=items, layout=widgets.Layout(grid_template_columns='repeat(4, 180px)'))\n",
    "        display(grid)\n",
    "\n",
    "def update_ref_options(change=None):\n",
    "    names = []\n",
    "    for i, f in enumerate(files_w.value):\n",
    "        # 파일명 추출 개선\n",
    "        if hasattr(f, 'name') and f.name:\n",
    "            name = f.name\n",
    "        else:\n",
    "            meta = f.get('metadata') or {}\n",
    "            name = meta.get('name', f'image_{i+1}.png')\n",
    "        names.append(name)\n",
    "    \n",
    "    ref_dropdown.options = names\n",
    "    if names: \n",
    "        ref_dropdown.value = names[0]\n",
    "    render_thumbnails()\n",
    "\n",
    "files_w.observe(update_ref_options, names='value')\n",
    "ref_dropdown.observe(render_thumbnails, names='value')\n",
    " # 평가 방식 설명 추가\n",
    "info_panel = widgets.HTML(\n",
    "            value=\"\"\"\n",
    "            <div style='background-color: #f8f9fa; padding: 15px; border-radius: 8px; border: 1px solid #dee2e6; margin-top: 10px;'>\n",
    "                <h4 style='margin-top: 0; color: #495057;'>평가 방식 설명</h4>\n",
    "                <ul style='margin-bottom: 0; color: #6c757d; line-height: 1.6;'>\n",
    "                    <li><strong>CLIP 점수:</strong> 텍스트-이미지 유사도 (0.4 이상 → 1.0, 아니면 (score+1)/1.4)</li>\n",
    "                    <li><strong>BLIP2 점수:</strong> 토픽 유사도 (0.7 이상 → 1.0, 아니면 score/0.7)</li>\n",
    "                    <li><strong>LPIPS 점수:</strong> 이미지 시각적 유사도 (낮을수록 좋음, 1-score로 정규화)</li>\n",
    "                    <li><strong>Final Score:</strong> 가중평균 (CLIP:20%, BLIP2:50%, LPIPS:30%) × 100</li>\n",
    "                    <li><strong>참고:</strong> 기준 이미지는 LPIPS 제외하고 계산됩니다</li>\n",
    "                </ul>\n",
    "            </div>\n",
    "        \"\"\",\n",
    "        layout=widgets.Layout(width='800px')\n",
    "    )\n",
    "display(\n",
    "    topic_w, \n",
    "    prompt_w, \n",
    "    files_w, \n",
    "    ref_dropdown, \n",
    "    widgets.HBox([enable_clip_w, enable_blip2_w, enable_lpips_w]), \n",
    "    thumbs_out, \n",
    "    run_btn, \n",
    "    info_panel,  # 정보 패널 추가\n",
    "    out\n",
    ")\n"
   ]
  }
 ],
 "metadata": {
  "kernelspec": {
   "display_name": ".venv",
   "language": "python",
   "name": "python3"
  },
  "language_info": {
   "codemirror_mode": {
    "name": "ipython",
    "version": 3
   },
   "file_extension": ".py",
   "mimetype": "text/x-python",
   "name": "python",
   "nbconvert_exporter": "python",
   "pygments_lexer": "ipython3",
   "version": "3.12.11"
  }
 },
 "nbformat": 4,
 "nbformat_minor": 5
}
